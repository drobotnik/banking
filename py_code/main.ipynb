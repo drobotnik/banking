{
 "cells": [
  {
   "cell_type": "code",
   "execution_count": null,
   "metadata": {
    "collapsed": true
   },
   "outputs": [],
   "source": [
    "import pandas as pd\n",
    "import datetime"
   ]
  },
  {
   "cell_type": "code",
   "execution_count": null,
   "metadata": {
    "collapsed": false
   },
   "outputs": [],
   "source": [
    "class SOT(object):\n",
    "    def __init__(self, sot_file):\n",
    "        self.sot_df = pd.read_csv(sot_file)\n",
    "        self.sot_df['Date'] = pd.to_datetime(self.sot_df['Date'], dayfirst=True) \n",
    "        \n",
    "    def __call__(self):\n",
    "        return self.sot_df\n",
    "        \n",
    "    def save_csv(self):\n",
    "        print(datetime.datetime.now().strftime(\"%Y-%m-%d-%H:%M\"))\n",
    "    \n",
    "    def update_budget(self, budget_records):\n",
    "        return budget_records\n",
    "\n",
    "    def prep_second_bank(self, csv_location):\n",
    "        second_bank = pd.read_csv(csv_location)\n",
    "        second_bank['Date'] = pd.to_datetime(second_bank['Date'], dayfirst=True)\n",
    "        second_bank.columns = [col.strip() for col in second_bank]\n",
    "        return second_bank.sort_index()\n",
    "    \n",
    "    def update_bank(self, second_bank_csv):\n",
    "        second_bank_df = self.prep_second_bank(second_bank_csv)\n",
    "        updated_sot = self.sot_df\n",
    "        for n, row in second_bank_df.iterrows():\n",
    "            Date, Type, Description, Value, Balance, Account_name, Account_Number = row # *Something tat requires configing\n",
    "            key = {'Value':Value, 'Date':Date}\n",
    "            row_type = self.bank_row_type(key, second_bank_df, updated_sot)\n",
    "            updated_sot = self.bank_row_type_strategy(row_type, row, second_bank_df, updated_sot)\n",
    "        return updated_sot\n",
    "\n",
    "    def bank_row_type(self, key, bank_df, updated_sot):\n",
    "        match_bank_cols = (updated_sot['Value'] == key['Value'])# & (updated_sot['Date'] == key['Date']) # *Something tat requires configing\n",
    "        return match_bank_cols\n",
    "        matched_bank = match_bank_cols.sum()\n",
    "        #assert matched_bank < 2, 'multiple match for bank - check function to match bank with bank'\n",
    "        if matched_bank > 1:\n",
    "            print('***** going Wrong')\n",
    "            return match_bank_cols\n",
    "        if not matched_bank:\n",
    "            # New bank entry...\n",
    "            matched_budget = (updated_sot['budget_date'] == key)\n",
    "            number_budget_matches = matched_budget.sum()\n",
    "            if number_budget_matches:\n",
    "                # Matches \n",
    "                if number_budget_matches == 1:\n",
    "                    # found unique match\n",
    "                    match = updated_sot[matched_budget].index\n",
    "                    assert len(match) == 1, 'match is not unique'\n",
    "                    return 'unique match', match[0]\n",
    "                elif number_budget_matches > 1:\n",
    "                    # found multiple matches\n",
    "                    return 'multiple match'\n",
    "            else:\n",
    "                print(key)\n",
    "                # Need to make new row\n",
    "                return 'brand new'\n",
    "        else:\n",
    "            # Entry already found in bank section, no need to do anything\n",
    "            return 'existing bank match'\n",
    "        \n",
    "    def bank_row_type_strategy(self, row_type, row, second_bank_df, updated_sot):\n",
    "        bank_cols = second_bank_df.columns\n",
    "        if row_type == 'existing bank match':\n",
    "            return updated_sot  # Do nothing\n",
    "        elif row_type == 'brand new':\n",
    "            new_row = pd.DataFrame(data=row, index=bank_cols).transpose()\n",
    "            return pd.concat([updated_sot, new_row])  # Add new row to updated_df\n",
    "        elif row_type[0] == 'unique match':\n",
    "            correct_row = updated_sot\n",
    "            for i in range(len(row)):\n",
    "                updated_sot = updated_sot.set_value(row_type[1], bank_cols[i],row[i])\n",
    "            return updated_sot  # Match with \n",
    "        elif row_type == 'multiple match':\n",
    "            print('multiple match: {}'.format(row))\n",
    "            return updated_sot  # Do nothing\n",
    "        else:\n",
    "            raise Exception('unhandled case of bank row type')\n",
    "                \n",
    "    \n",
    "\n",
    "\n",
    "sot = SOT('first_SOT.csv')\n"
   ]
  },
  {
   "cell_type": "code",
   "execution_count": null,
   "metadata": {
    "collapsed": false,
    "scrolled": true
   },
   "outputs": [],
   "source": [
    "x = sot.update_bank('25.11-25.12 -- readied.csv')\n",
    "#x.to_csv('did_it_work.csv')\n",
    "x"
   ]
  },
  {
   "cell_type": "code",
   "execution_count": null,
   "metadata": {
    "collapsed": true
   },
   "outputs": [],
   "source": []
  },
  {
   "cell_type": "code",
   "execution_count": null,
   "metadata": {
    "collapsed": true
   },
   "outputs": [],
   "source": []
  }
 ],
 "metadata": {
  "kernelspec": {
   "display_name": "Python 3",
   "language": "python",
   "name": "python3"
  },
  "language_info": {
   "codemirror_mode": {
    "name": "ipython",
    "version": 3
   },
   "file_extension": ".py",
   "mimetype": "text/x-python",
   "name": "python",
   "nbconvert_exporter": "python",
   "pygments_lexer": "ipython3",
   "version": "3.5.1"
  }
 },
 "nbformat": 4,
 "nbformat_minor": 0
}
