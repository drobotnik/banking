{
 "cells": [
  {
   "cell_type": "code",
   "execution_count": null,
   "metadata": {
    "collapsed": false
   },
   "outputs": [],
   "source": [
    "import pandas as pd\n",
    "import datetime\n",
    "\n",
    "class SOT(object):\n",
    "    def __init__(self, sot_file):\n",
    "        self.sot_df = pd.read_csv(sot_file)\n",
    "        self.sot_df['Date'] = pd.to_datetime(self.sot_df['Date'], dayfirst=True)\n",
    "        self.sot_df['budget_date'] = pd.to_datetime(self.sot_df['budget_date'], dayfirst=True)\n",
    "        \n",
    "    def __call__(self):\n",
    "        return self.sot_df\n",
    "        vold\n",
    "    def save_csv(self):\n",
    "        print(datetime.datetime.now().strftime(\"%Y-%m-%d-%H:%M\"))\n",
    "    \n",
    "    def update_budget(self, budget_records):\n",
    "        return budget_records\n",
    "\n",
    "    def prep_second_bank(self, csv_location):\n",
    "        second_bank = pd.read_csv(csv_location)\n",
    "        second_bank['Date'] = pd.to_datetime(second_bank['Date'], dayfirst=True)\n",
    "        second_bank.columns = [col.strip() for col in second_bank]\n",
    "        return second_bank.sort_index()\n",
    "    \n",
    "    def update_bank(self, csv_location):\n",
    "        second_bank_df = self.prep_second_bank(csv_location)\n",
    "        updated_sot = self.sot_df\n",
    "        for n, row in second_bank_df.iterrows():\n",
    "            updated_sot = self.bank_row_type(row, second_bank_df, updated_sot)\n",
    "        return updated_sot\n",
    "    \n",
    "    def match_bank_on_sot_bank_conditions(self, row):\n",
    "        helper = []\n",
    "        for col in row.index:\n",
    "            helper+= [\"(updated_sot['{0}'] == row['{0}'])\".format(col)]\n",
    "        return'updated_sot[{}]'.format('&'.join(helper))\n",
    "    \n",
    "    def match_bank_on_sot_budget_conditions(self,row):\n",
    "        date_match = \"(abs((updated_sot['budget_date'] - row['Date'])) < pd.to_timedelta('4 Days'))\"\n",
    "        value_match = \"(updated_sot['Expense Amount'] == row['Value'])\"\n",
    "        matches = [value_match, date_match]\n",
    "        return 'updated_sot[{}]'.format('&'.join(matches))\n",
    "    \n",
    "    def bank_row_type(self, row, bank_df, updated_sot):\n",
    "        # TODO need to think about rare case where updated_sot.groupby(['Description','Date', 'Value']).size().sort_values(ascending=False) \n",
    "        matched_bank_cols = eval(self.match_bank_on_sot_bank_conditions(row))\n",
    "        matched_bank_number = matched_bank_cols.shape[0]\n",
    "        matched_bank_index = list(matched_bank_cols.index.values)\n",
    "        #print(updated_sot['budget_date']- row['Date'])\n",
    "        #print(abs((updated_sot['budget_date'] - row['Date'])) < timedelta('4 Days'))\n",
    "        matched_on_budget = eval(self.match_bank_on_sot_budget_conditions(row))\n",
    "        matched_budget_index = list(matched_on_budget.index.values)\n",
    "        print(matched_bank_index, matched_budget_index)\n",
    "        already_reconciled = set(matched_bank_index) == set(matched_budget_index)\n",
    "\n",
    "        if not matched_bank_number:\n",
    "            # New bank entry...\n",
    "            matched_budget = (updated_sot['budget_date'] == row['Date'])\n",
    "            number_budget_matches = matched_budget.sum()\n",
    "            if number_budget_matches:\n",
    "                # Matches \n",
    "                if number_budget_matches == 1:\n",
    "                    correct_row = updated_sot\n",
    "                    for key in row.index:\n",
    "                        updated_sot = updated_sot.set_value(matched_bank_index[0], updated_sot[key],row[key])\n",
    "                    return updated_sot\n",
    "                elif number_budget_matches > 1:\n",
    "                    return updated_sot  # Do nothing\n",
    "            else:\n",
    "                new_row = pd.DataFrame(data=row, index=row.index).transpose()\n",
    "                return pd.concat([updated_sot, new_row])  # Add new row to updated_df\n",
    "        else:\n",
    "            # Entry already found in bank section, no need to do anything\n",
    "            return updated_sot     \n",
    "    \n",
    "\n",
    "\n",
    "sot = SOT('first_SOT.csv')\n",
    "\n"
   ]
  },
  {
   "cell_type": "code",
   "execution_count": null,
   "metadata": {
    "collapsed": false
   },
   "outputs": [],
   "source": [
    "x = sot.update_bank('25.11-25.12 -- readied.csv')\n"
   ]
  },
  {
   "cell_type": "code",
   "execution_count": null,
   "metadata": {
    "collapsed": false
   },
   "outputs": [],
   "source": [
    "x"
   ]
  }
 ],
 "metadata": {
  "kernelspec": {
   "display_name": "Python 3",
   "language": "python",
   "name": "python3"
  },
  "language_info": {
   "codemirror_mode": {
    "name": "ipython",
    "version": 3
   },
   "file_extension": ".py",
   "mimetype": "text/x-python",
   "name": "python",
   "nbconvert_exporter": "python",
   "pygments_lexer": "ipython3",
   "version": "3.5.1"
  }
 },
 "nbformat": 4,
 "nbformat_minor": 0
}
