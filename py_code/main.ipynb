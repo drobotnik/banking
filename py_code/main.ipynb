{
 "cells": [
  {
   "cell_type": "code",
   "execution_count": null,
   "metadata": {
    "collapsed": false
   },
   "outputs": [],
   "source": [
    "import pandas as pd\n",
    "import datetime\n",
    "TTTTTT\n",
    "class SOT(object):\n",
    "    def __init__(self, sot_file):\n",
    "        self.sot_df = pd.read_csv(sot_file)\n",
    "        self.sot_df['Date'] = pd.to_datetime(self.sot_df['Date'], dayfirst=True) \n",
    "        \n",
    "    def __call__(self):\n",
    "        return self.sot_df\n",
    "        \n",
    "    def save_csv(self):\n",
    "        print(datetime.datetime.now().strftime(\"%Y-%m-%d-%H:%M\"))\n",
    "    \n",
    "    def update_budget(self, budget_records):\n",
    "        return budget_records\n",
    "\n",
    "    def prep_second_bank(self, csv_location):\n",
    "        second_bank = pd.read_csv(csv_location)\n",
    "        second_bank['Date'] = pd.to_datetime(second_bank['Date'], dayfirst=True)\n",
    "        second_bank.columns = [col.strip() for col in second_bank]\n",
    "        return second_bank.sort_index()\n",
    "    \n",
    "    def update_bank(self, csv_location):\n",
    "        second_bank_df = self.prep_second_bank(csv_location)\n",
    "        updated_sot = self.sot_df\n",
    "        for n, row in second_bank_df.iterrows():\n",
    "            cols = second_bank_df.columns\n",
    "            key = dict(zip(cols,row))  # Passes the row into bank_row_type() with column headers as key\n",
    "            row_type = self.bank_row_type(key, second_bank_df, updated_sot)\n",
    "            updated_sot = self.bank_row_type_strategy(row_type, row, second_bank_df, updated_sot)\n",
    "        return updated_sot\n",
    "\n",
    "    def bank_row_type(self, key, bank_df, updated_sot):\n",
    "        date_match = (abs(updated_sot['Date'] - key['Date']) < pd.Timedelta('4 Days'))\n",
    "        value_match = (updated_sot['Value'] == key['Value'])        \n",
    "        description_match = (updated_sot['Description'] == key['Description'])\n",
    "        account_match = updated_sot['Account Name'] == key['Account Name']\n",
    "        \n",
    "        # TODO need to think about rare case where updated_sot.groupby(['Description','Date', 'Value']).size().sort_values(ascending=False) \n",
    "        match_bank_cols = date_match & value_match & description_match\n",
    "        matched_bank = match_bank_cols.sum()\n",
    "        if not matched_bank:\n",
    "            # New bank entry...\n",
    "            matched_budget = (updated_sot['budget_date'] == key)\n",
    "            number_budget_matches = matched_budget.sum()\n",
    "            if number_budget_matches:\n",
    "                # Matches \n",
    "                if number_budget_matches == 1:\n",
    "                    # found unique match\n",
    "                    match = updated_sot[matched_budget].index\n",
    "                    assert len(match) == 1, 'match is not unique'\n",
    "                    return 'unique match', match[0]\n",
    "                elif number_budget_matches > 1:\n",
    "                    # found multiple matches\n",
    "                    return 'multiple match'\n",
    "            else:\n",
    "                # Need to make new row\n",
    "                return 'brand new'\n",
    "        else:\n",
    "            # Entry already found in bank section, no need to do anything\n",
    "            return 'existing bank match'\n",
    "        \n",
    "    def bank_row_type_strategy(self, row_type, row, second_bank_df, updated_sot):\n",
    "        bank_cols = second_bank_df.columns\n",
    "        if row_type == 'existing bank match':\n",
    "            return updated_sot  # Do nothing\n",
    "        elif row_type == 'brand new':\n",
    "            new_row = pd.DataFrame(data=row, index=bank_cols).transpose()\n",
    "            return pd.concat([updated_sot, new_row])  # Add new row to updated_df\n",
    "        elif row_type[0] == 'unique match':\n",
    "            correct_row = updated_sot\n",
    "            for i in range(len(row)):\n",
    "                updated_sot = updated_sot.set_value(row_type[1], bank_cols[i],row[i])\n",
    "            return updated_sot  # Match with \n",
    "        elif row_type == 'multiple match':\n",
    "            return updated_sot  # Do nothing\n",
    "        else:\n",
    "            raise Exception('unhandled case of bank row type')\n",
    "                \n",
    "    \n",
    "\n",
    "\n",
    "sot = SOT('first_SOT.csv')\n",
    "\n"
   ]
  },
  {
   "cell_type": "code",
   "execution_count": null,
   "metadata": {
    "collapsed": true
   },
   "outputs": [],
   "source": [
    "x = sot.update_bank('25.11-25.12 -- readied.csv')\n"
   ]
  },
  {
   "cell_type": "code",
   "execution_count": null,
   "metadata": {
    "collapsed": false
   },
   "outputs": [],
   "source": [
    "x"
   ]
  },
  {
   "cell_type": "code",
   "execution_count": null,
   "metadata": {
    "collapsed": true
   },
   "outputs": [],
   "source": []
  }
 ],
 "metadata": {
  "kernelspec": {
   "display_name": "Python 3",
   "language": "python",
   "name": "python3"
  },
  "language_info": {
   "codemirror_mode": {
    "name": "ipython",
    "version": 3
   },
   "file_extension": ".py",
   "mimetype": "text/x-python",
   "name": "python",
   "nbconvert_exporter": "python",
   "pygments_lexer": "ipython3",
   "version": "3.5.1"
  }
 },
 "nbformat": 4,
 "nbformat_minor": 0
}
