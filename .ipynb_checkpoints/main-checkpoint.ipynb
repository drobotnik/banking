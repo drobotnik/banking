{
 "cells": [
  {
   "cell_type": "code",
   "execution_count": 1,
   "metadata": {
    "collapsed": true
   },
   "outputs": [],
   "source": [
    "import pandas as pd\n",
    "import datetime"
   ]
  },
  {
   "cell_type": "code",
   "execution_count": 2,
   "metadata": {
    "collapsed": false
   },
   "outputs": [],
   "source": [
    "class SOT(object):\n",
    "    def __init__(self, sot_file):\n",
    "        self.sot_file = pd.DataFrame.from_csv(sot_file)\n",
    "        \n",
    "    def save_csv(self):\n",
    "        print(datetime.datetime.now().strftime(\"%Y-%m-%d-%H:%M\"))\n",
    "    \n",
    "    def update_budget(self, budget_records):\n",
    "        return budget_records\n",
    "\n",
    "    def update_bank(self, bank_records):\n",
    "        self.sot_file += bank_records\n",
    "        self.bank_first = bank_records + 'xxx'\n",
    "\n",
    "sot = SOT('first_SOT.csv')\n"
   ]
  },
  {
   "cell_type": "code",
   "execution_count": 40,
   "metadata": {
    "collapsed": false
   },
   "outputs": [],
   "source": [
    "class Test_sot(object):\n",
    "    def __init__(self):\n",
    "        starter_budget = {'uA':['a','d','e','z'],\n",
    "              'uB':[3,4,5,6],\n",
    "              'uk1':[33,44,66,99]}\n",
    "\n",
    "        starter_bank = {'aA':['b','d','e', 'l'],\n",
    "                      'aB':[3,4,6,9],\n",
    "                      'ak1':[33,44,77,88]}\n",
    "\n",
    "        budget_df = pd.DataFrame(data=starter_budget)\n",
    "        bank_df = pd.DataFrame(data=starter_bank)\n",
    "\n",
    "        self.starter_df = pd.merge(bank_df, budget_df, how='outer', left_on='ak1',right_on='uk1')\n",
    "    \n",
    "    def update_bank(self):\n",
    "        updated_df = self.starter_df\n",
    "        second_bank = {'aA':['b','d','e','z'],\n",
    "              'aB':[3,4,5,6],\n",
    "              'ak1':[33,66,77,111]}\n",
    "        second_bank_df = pd.DataFrame(data=second_bank)\n",
    "        \n",
    "        print(self.starter_df)\n",
    "        print('####')\n",
    "        bank_cols = second_bank_df.columns\n",
    "        for n, (a,b,key) in second_bank_df.iterrows():\n",
    "            print('looking for {}'.format(key))\n",
    "            match_bank_cols = updated_df['ak1'] == key\n",
    "            matched_bank = match_bank_cols.sum()\n",
    "            assert matched_bank < 2, 'multiple match for bank - check function to match bank with bank'\n",
    "            if not matched_bank:\n",
    "                # New bank entry...\n",
    "                matched_budget = (updated_df['uk1'] == key).sum()\n",
    "                if matched_budget:\n",
    "                    # Matches \n",
    "                    if matches == 1:\n",
    "                        # found unique match\n",
    "                        pass\n",
    "                    elif matches > 1:\n",
    "                        # found multiple matches\n",
    "                        pass\n",
    "                else:\n",
    "                    # Need to make new row\n",
    "                    new_row = pd.DataFrame([a,b,key], index=bank_cols).transpose()\n",
    "                    updated_df = pd.merge(updated_df, new_row,how='outer')\n",
    "            else:\n",
    "                # Entry already found in bank section, no need to do anything\n",
    "                continue\n",
    "            \n",
    "        return updated_df\n",
    "\n",
    "        \n",
    "t = Test_sot()"
   ]
  },
  {
   "cell_type": "code",
   "execution_count": 41,
   "metadata": {
    "collapsed": false
   },
   "outputs": [
    {
     "name": "stdout",
     "output_type": "stream",
     "text": [
      "    aA  aB  ak1   uA  uB  uk1\n",
      "0    b   3   33    a   3   33\n",
      "1    d   4   44    d   4   44\n",
      "2    e   6   77  NaN NaN  NaN\n",
      "3    l   9   88  NaN NaN  NaN\n",
      "4  NaN NaN  NaN    e   5   66\n",
      "5  NaN NaN  NaN    z   6   99\n",
      "####\n",
      "looking for 33\n"
     ]
    },
    {
     "ename": "AssertionError",
     "evalue": "multiple match for bank - check function to match bank with bank",
     "output_type": "error",
     "traceback": [
      "\u001b[1;31m---------------------------------------------------------------------------\u001b[0m",
      "\u001b[1;31mAssertionError\u001b[0m                            Traceback (most recent call last)",
      "\u001b[1;32m<ipython-input-41-e3a7e9f4a3a4>\u001b[0m in \u001b[0;36m<module>\u001b[1;34m()\u001b[0m\n\u001b[1;32m----> 1\u001b[1;33m \u001b[0mt\u001b[0m\u001b[1;33m.\u001b[0m\u001b[0mupdate_bank\u001b[0m\u001b[1;33m(\u001b[0m\u001b[1;33m)\u001b[0m\u001b[1;33m\u001b[0m\u001b[0m\n\u001b[0m",
      "\u001b[1;32m<ipython-input-40-5aaa86e50b88>\u001b[0m in \u001b[0;36mupdate_bank\u001b[1;34m(self)\u001b[0m\n\u001b[0;32m     28\u001b[0m             \u001b[0mmatch_bank_cols\u001b[0m \u001b[1;33m=\u001b[0m \u001b[0mupdated_df\u001b[0m\u001b[1;33m[\u001b[0m\u001b[1;34m'ak1'\u001b[0m\u001b[1;33m]\u001b[0m \u001b[1;33m==\u001b[0m \u001b[0mkey\u001b[0m\u001b[1;33m\u001b[0m\u001b[0m\n\u001b[0;32m     29\u001b[0m             \u001b[0mmatched_bank\u001b[0m \u001b[1;33m=\u001b[0m \u001b[0mmatch_bank_cols\u001b[0m\u001b[1;33m.\u001b[0m\u001b[0msum\u001b[0m\u001b[1;33m(\u001b[0m\u001b[1;33m)\u001b[0m\u001b[1;33m\u001b[0m\u001b[0m\n\u001b[1;32m---> 30\u001b[1;33m             \u001b[1;32massert\u001b[0m \u001b[0mmatched_bank\u001b[0m \u001b[1;33m<\u001b[0m \u001b[1;36m1\u001b[0m\u001b[1;33m,\u001b[0m \u001b[1;34m'multiple match for bank - check function to match bank with bank'\u001b[0m\u001b[1;33m\u001b[0m\u001b[0m\n\u001b[0m\u001b[0;32m     31\u001b[0m             \u001b[1;32mif\u001b[0m \u001b[1;32mnot\u001b[0m \u001b[0mmatched_bank\u001b[0m\u001b[1;33m:\u001b[0m\u001b[1;33m\u001b[0m\u001b[0m\n\u001b[0;32m     32\u001b[0m                 \u001b[1;31m# New bank entry\u001b[0m\u001b[1;33m\u001b[0m\u001b[1;33m\u001b[0m\u001b[0m\n",
      "\u001b[1;31mAssertionError\u001b[0m: multiple match for bank - check function to match bank with bank"
     ]
    }
   ],
   "source": [
    "t.update_bank()"
   ]
  },
  {
   "cell_type": "code",
   "execution_count": null,
   "metadata": {
    "collapsed": true
   },
   "outputs": [],
   "source": []
  },
  {
   "cell_type": "code",
   "execution_count": null,
   "metadata": {
    "collapsed": true
   },
   "outputs": [],
   "source": []
  }
 ],
 "metadata": {
  "kernelspec": {
   "display_name": "Python 3",
   "language": "python",
   "name": "python3"
  },
  "language_info": {
   "codemirror_mode": {
    "name": "ipython",
    "version": 3
   },
   "file_extension": ".py",
   "mimetype": "text/x-python",
   "name": "python",
   "nbconvert_exporter": "python",
   "pygments_lexer": "ipython3",
   "version": "3.5.1"
  }
 },
 "nbformat": 4,
 "nbformat_minor": 0
}
